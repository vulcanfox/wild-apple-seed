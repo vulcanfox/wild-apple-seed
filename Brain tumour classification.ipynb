{
 "cells": [
  {
   "cell_type": "code",
   "execution_count": 11,
   "id": "d62694a9",
   "metadata": {},
   "outputs": [
    {
     "data": {
      "text/plain": [
       "[]"
      ]
     },
     "execution_count": 11,
     "metadata": {},
     "output_type": "execute_result"
    }
   ],
   "source": []
  },
  {
   "cell_type": "code",
   "execution_count": 38,
   "id": "2b9c3d22",
   "metadata": {},
   "outputs": [
    {
     "name": "stdout",
     "output_type": "stream",
     "text": [
      "/Users/adnan/Documents/datasets/brain_tumor_classification/Training/no_tumor/image(115).jpg\n",
      "/Users/adnan/Documents/datasets/brain_tumor_classification/Training/pituitary_tumor/p (477).jpg\n",
      "/Users/adnan/Documents/datasets/brain_tumor_classification/Training/meningioma_tumor/m1(69).jpg\n",
      "/Users/adnan/Documents/datasets/brain_tumor_classification/Training/glioma_tumor/gg (362).jpg\n"
     ]
    },
    {
     "data": {
      "text/html": [
       "<div>\n",
       "<style scoped>\n",
       "    .dataframe tbody tr th:only-of-type {\n",
       "        vertical-align: middle;\n",
       "    }\n",
       "\n",
       "    .dataframe tbody tr th {\n",
       "        vertical-align: top;\n",
       "    }\n",
       "\n",
       "    .dataframe thead th {\n",
       "        text-align: right;\n",
       "    }\n",
       "</style>\n",
       "<table border=\"1\" class=\"dataframe\">\n",
       "  <thead>\n",
       "    <tr style=\"text-align: right;\">\n",
       "      <th></th>\n",
       "      <th>brain_scan</th>\n",
       "      <th>label</th>\n",
       "    </tr>\n",
       "  </thead>\n",
       "  <tbody>\n",
       "    <tr>\n",
       "      <th>0</th>\n",
       "      <td>/Users/adnan/Documents/datasets/brain_tumor_cl...</td>\n",
       "      <td>0</td>\n",
       "    </tr>\n",
       "    <tr>\n",
       "      <th>1</th>\n",
       "      <td>/Users/adnan/Documents/datasets/brain_tumor_cl...</td>\n",
       "      <td>0</td>\n",
       "    </tr>\n",
       "    <tr>\n",
       "      <th>2</th>\n",
       "      <td>/Users/adnan/Documents/datasets/brain_tumor_cl...</td>\n",
       "      <td>0</td>\n",
       "    </tr>\n",
       "    <tr>\n",
       "      <th>3</th>\n",
       "      <td>/Users/adnan/Documents/datasets/brain_tumor_cl...</td>\n",
       "      <td>0</td>\n",
       "    </tr>\n",
       "    <tr>\n",
       "      <th>4</th>\n",
       "      <td>/Users/adnan/Documents/datasets/brain_tumor_cl...</td>\n",
       "      <td>0</td>\n",
       "    </tr>\n",
       "    <tr>\n",
       "      <th>...</th>\n",
       "      <td>...</td>\n",
       "      <td>...</td>\n",
       "    </tr>\n",
       "    <tr>\n",
       "      <th>821</th>\n",
       "      <td>/Users/adnan/Documents/datasets/brain_tumor_cl...</td>\n",
       "      <td>3</td>\n",
       "    </tr>\n",
       "    <tr>\n",
       "      <th>822</th>\n",
       "      <td>/Users/adnan/Documents/datasets/brain_tumor_cl...</td>\n",
       "      <td>3</td>\n",
       "    </tr>\n",
       "    <tr>\n",
       "      <th>823</th>\n",
       "      <td>/Users/adnan/Documents/datasets/brain_tumor_cl...</td>\n",
       "      <td>3</td>\n",
       "    </tr>\n",
       "    <tr>\n",
       "      <th>824</th>\n",
       "      <td>/Users/adnan/Documents/datasets/brain_tumor_cl...</td>\n",
       "      <td>3</td>\n",
       "    </tr>\n",
       "    <tr>\n",
       "      <th>825</th>\n",
       "      <td>/Users/adnan/Documents/datasets/brain_tumor_cl...</td>\n",
       "      <td>3</td>\n",
       "    </tr>\n",
       "  </tbody>\n",
       "</table>\n",
       "<p>2870 rows × 2 columns</p>\n",
       "</div>"
      ],
      "text/plain": [
       "                                            brain_scan  label\n",
       "0    /Users/adnan/Documents/datasets/brain_tumor_cl...      0\n",
       "1    /Users/adnan/Documents/datasets/brain_tumor_cl...      0\n",
       "2    /Users/adnan/Documents/datasets/brain_tumor_cl...      0\n",
       "3    /Users/adnan/Documents/datasets/brain_tumor_cl...      0\n",
       "4    /Users/adnan/Documents/datasets/brain_tumor_cl...      0\n",
       "..                                                 ...    ...\n",
       "821  /Users/adnan/Documents/datasets/brain_tumor_cl...      3\n",
       "822  /Users/adnan/Documents/datasets/brain_tumor_cl...      3\n",
       "823  /Users/adnan/Documents/datasets/brain_tumor_cl...      3\n",
       "824  /Users/adnan/Documents/datasets/brain_tumor_cl...      3\n",
       "825  /Users/adnan/Documents/datasets/brain_tumor_cl...      3\n",
       "\n",
       "[2870 rows x 2 columns]"
      ]
     },
     "execution_count": 38,
     "metadata": {},
     "output_type": "execute_result"
    }
   ],
   "source": [
    "import os\n",
    "import glob\n",
    "import numpy as np\n",
    "import pandas as pd\n",
    "from PIL import Image\n",
    "\n",
    "all_dfs = []\n",
    "\n",
    "tumor_classifications = ['no_tumor','pituitary_tumor', 'meningioma_tumor', 'glioma_tumor' ]\n",
    "\n",
    "for index, label in enumerate(tumor_classifications):\n",
    "    # Specify the folder path\n",
    "    folder_path = '/Users/adnan/Documents/datasets/brain_tumor_classification/Training/'+label\n",
    "\n",
    "    image_files = glob.glob(os.path.join(folder_path, '**', '*.jpg'), recursive=True)\n",
    "\n",
    "    print(image_files[0])\n",
    "    image_files_np = np.array(image_files)\n",
    "    classification_df = pd.DataFrame({'brain_scan':image_files_np, 'label': index})\n",
    "    all_dfs.append(classification_df)\n",
    "\n",
    "data = pd.concat(all_dfs)\n",
    "data.to_csv('brain_tumor_df.csv', index=False)\n",
    "data"
   ]
  },
  {
   "cell_type": "code",
   "execution_count": 13,
   "id": "05de34a7",
   "metadata": {},
   "outputs": [
    {
     "name": "stdout",
     "output_type": "stream",
     "text": [
      "hi\n"
     ]
    }
   ],
   "source": []
  },
  {
   "cell_type": "code",
   "execution_count": null,
   "id": "643d08b7",
   "metadata": {},
   "outputs": [],
   "source": []
  }
 ],
 "metadata": {
  "kernelspec": {
   "display_name": "Python 3 (ipykernel)",
   "language": "python",
   "name": "python3"
  },
  "language_info": {
   "codemirror_mode": {
    "name": "ipython",
    "version": 3
   },
   "file_extension": ".py",
   "mimetype": "text/x-python",
   "name": "python",
   "nbconvert_exporter": "python",
   "pygments_lexer": "ipython3",
   "version": "3.11.5"
  }
 },
 "nbformat": 4,
 "nbformat_minor": 5
}
